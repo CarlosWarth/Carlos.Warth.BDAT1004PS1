{
 "cells": [
  {
   "cell_type": "markdown",
   "id": "f8c3d325",
   "metadata": {},
   "source": [
    "# Question 1 - C#\n",
    "What data type is each of the following?\n",
    "\n",
    "5\n",
    "5.0\n",
    "5 > 1\n",
    "'5'\n",
    "5 * 2\n",
    "'5' * 2\n",
    "'5' + '2'\n",
    "5 / 2\n",
    "5 % 2\n",
    "{5, 2, 1}\n",
    "5 == 3\n",
    "Pi (the number)\n",
    "\n",
    "The aswers are below in order (Begining with the first line \"5\" down to \"Pi (the number)\""
   ]
  },
  {
   "cell_type": "markdown",
   "id": "104e8a34",
   "metadata": {},
   "source": [
    "5 \\\\Integer \n",
    "5.0 \\\\ Double\n",
    "5 > 1 \\\\ Boolean\n",
    "'5' \\\\ Character\n",
    "5 * 2 \\\\ Integer\n",
    "'5' * 2 \\\\ Character\n",
    "'5' + '2' \\\\ Chatacter\n",
    "5 / 2 \\\\ Integer\n",
    "5 % 2 \\\\ Integer\n",
    "{5, 2, 1} \\\\ Integer\n",
    "5 == 3 \\\\ Boolean\n",
    "Pi (the number) \\\\ Double\n"
   ]
  },
  {
   "cell_type": "markdown",
   "id": "20ce7edd",
   "metadata": {},
   "source": [
    "# Question 2 - C#\n",
    "\n",
    "Write (and evaluate) C# expressions that answer these questions:\n"
   ]
  },
  {
   "cell_type": "markdown",
   "id": "c5b93345",
   "metadata": {},
   "source": [
    "# 2a. How many letters are there in 'Supercalifragilisticexpialidocious'?"
   ]
  },
  {
   "cell_type": "code",
   "execution_count": 48,
   "id": "50892345",
   "metadata": {},
   "outputs": [
    {
     "name": "stdout",
     "output_type": "stream",
     "text": [
      "34\r\n"
     ]
    }
   ],
   "source": [
    "string word1 = \"Supercalifragilisticexpialidocious\";\n",
    "Console.WriteLine(word1.Length);"
   ]
  },
  {
   "cell_type": "markdown",
   "id": "bd7f7097",
   "metadata": {},
   "source": [
    "Answer question 2a: there are 34 letters"
   ]
  },
  {
   "cell_type": "markdown",
   "id": "3948aaf4",
   "metadata": {},
   "source": [
    "# 2b. Does 'Supercalifragilisticexpialidocious' contain 'ice' as a substring?"
   ]
  },
  {
   "cell_type": "code",
   "execution_count": 47,
   "id": "c5178125",
   "metadata": {},
   "outputs": [
    {
     "name": "stdout",
     "output_type": "stream",
     "text": [
      "True\r\n"
     ]
    }
   ],
   "source": [
    "Boolean Answer = word.Contains(\"ice\");\n",
    "Console.WriteLine(Answer);"
   ]
  },
  {
   "cell_type": "markdown",
   "id": "793c1d90",
   "metadata": {},
   "source": [
    "Answer question 2b: yes, it contains the string \"ice\""
   ]
  },
  {
   "cell_type": "markdown",
   "id": "5e3ea27b",
   "metadata": {},
   "source": [
    "# 2c. Which of the following words is the longest:"
   ]
  },
  {
   "cell_type": "code",
   "execution_count": 4,
   "id": "44f6d355",
   "metadata": {},
   "outputs": [
    {
     "name": "stdout",
     "output_type": "stream",
     "text": [
      "34\n",
      "27\n",
      "34\n"
     ]
    }
   ],
   "source": [
    "string word1 = \"Supercalifragilisticexpialidocious\";\n",
    "string word2 = \"Supercalifragilisticexpialidocious\";\n",
    "string word3 = \"Bababadalgharaghtakamminarronnkonn\";\n",
    "Console.WriteLine(word1.Length);\n",
    "Console.WriteLine(word2.Length);\n",
    "Console.WriteLine(word3.Length);"
   ]
  },
  {
   "cell_type": "markdown",
   "id": "90deb075",
   "metadata": {},
   "source": [
    "Answer question 2c: the word 1 and word2 has the same lenght (34)"
   ]
  },
  {
   "cell_type": "markdown",
   "id": "9690d7d0",
   "metadata": {},
   "source": [
    "# 2d. Which composer comes first in the dictionary: 'Berlioz', 'Borodin', 'Brian', 'Bartok', 'Bellini', 'Buxtehude', 'Bernstein'. Which one comes last?"
   ]
  },
  {
   "cell_type": "code",
   "execution_count": 71,
   "id": "0095fe38",
   "metadata": {},
   "outputs": [
    {
     "name": "stdout",
     "output_type": "stream",
     "text": [
      "Bartok\n",
      "Buxtehude\n"
     ]
    }
   ],
   "source": [
    "\n",
    "var names = new SortedSet<string>();\n",
    "          names.Add(\"Berlioz\");\n",
    "          names.Add(\"Borodin\");\n",
    "          names.Add(\"Brian\");\n",
    "          names.Add(\"Bartok\");\n",
    "          names.Add(\"Bellini\");\n",
    "          names.Add(\"Buxtehude\");\n",
    "          names.Add(\"Bellini\");\n",
    "          names.Add(\"Bernstein\");\n",
    "         \n",
    "        Console.WriteLine(names.First());\n",
    "        Console.WriteLine(names.Last());\n",
    "    "
   ]
  },
  {
   "cell_type": "markdown",
   "id": "1e66ff43",
   "metadata": {},
   "source": [
    "Answer question 2d: Bartok comes first and Buxtehude comes last."
   ]
  },
  {
   "cell_type": "markdown",
   "id": "9d18b505",
   "metadata": {},
   "source": [
    "# Question 3 C#\n",
    "\n",
    "Implement function triangleArea(a,b,c) that takes as input the lengths of the 3\n",
    "sides of a triangle and returns the area of the triangle. By Heron's formula, the area\n",
    "of a triangle with side lengths a, b, and c is\n",
    "s(s - a)(s -b)(s -c)\n",
    ", where\n",
    "s = (a+b+c)/2.\n",
    ">>> triangleArea(2,2,2)\n",
    "1.7320508075688772\n"
   ]
  },
  {
   "cell_type": "code",
   "execution_count": 49,
   "id": "40f595b4",
   "metadata": {},
   "outputs": [
    {
     "name": "stdout",
     "output_type": "stream",
     "text": [
      "1.7320508075688772\r\n"
     ]
    }
   ],
   "source": [
    "public double TriangleArea(int a, int b, int c)\n",
    "{\n",
    "    double s = ( a + b + c ) / 2;\n",
    "    double tri =  Math.Sqrt ((s * (s-a) * (s-b) * (s-c) ));  \n",
    "\n",
    "    return tri;\n",
    "\n",
    "}        \n",
    "\n",
    "\n",
    "Console.WriteLine(TriangleArea(2,2,2));\n"
   ]
  },
  {
   "cell_type": "code",
   "execution_count": null,
   "id": "e58b9446",
   "metadata": {},
   "outputs": [],
   "source": []
  },
  {
   "cell_type": "markdown",
   "id": "63836164",
   "metadata": {},
   "source": [
    "# Question 4 - C#\n",
    "\n",
    "Write a program in C# Sharp to separate odd and even integers in separate arrays.\n",
    "Go to the editor\n",
    "Test Data :\n",
    "Input the number of elements to be stored in the array :5\n",
    "Input 5 elements in the array :\n",
    "element - 0 : 25\n",
    "element - 1 : 47\n",
    "element - 2 : 42\n",
    "element - 3 : 56\n",
    "element - 4 : 32\n",
    "Expected Output:\n",
    "The Even elements are:\n",
    "42 56 32\n",
    "The Odd elements are :\n",
    "25 47"
   ]
  },
  {
   "cell_type": "code",
   "execution_count": 60,
   "id": "c47a64dc",
   "metadata": {},
   "outputs": [
    {
     "name": "stdout",
     "output_type": "stream",
     "text": [
      "The Even elements are: 42 56 32 The Odd elements are: 25 47 "
     ]
    }
   ],
   "source": [
    "\n",
    "int[] arr = new int[5] {25,47,42,56,32};        \n",
    "       \n",
    "List<int> even = new List<int>(); \n",
    "List<int> odd = new List<int>();\n",
    "\n",
    "        for (int i = 0; i < arr.Length; i++)\n",
    "\n",
    "        {\n",
    "            if (arr[i]%2 == 1)\n",
    "            {\n",
    "            odd.Add(arr[i]);           \n",
    "            }\n",
    "            else\n",
    "            {\n",
    "            even.Add(arr[i]);\n",
    "            }          \n",
    "        }\n",
    "\n",
    "\n",
    "        Console.Write(\"The Even elements are: \");\n",
    "        foreach(var i in even)\n",
    "            {    \n",
    "            Console.Write(i);\n",
    "            Console.Write(\" \");\n",
    "            }          \n",
    "        \n",
    "        Console.Write(\"The Odd elements are: \");\n",
    "        foreach(var i in odd)\n",
    "        {    \n",
    "            Console.Write(i);\n",
    "            Console.Write(\" \");\n",
    "        }      "
   ]
  },
  {
   "cell_type": "markdown",
   "id": "c03f79da",
   "metadata": {},
   "source": [
    "# Question 5 - C#\n",
    "\n",
    "a. Write a function inside(x,y,x1,y1,x2,y2) that returns True or False\n",
    "depending on whether the point (x,y) lies in the rectangle with lower left\n",
    "corner (x1,y1) and upper right corner (x2,y2).\n",
    ">>> inside(1,1,0,0,2,3)\n",
    "True\n",
    ">>> inside(-1,-1,0,0,2,3)\n",
    "False\n",
    "b. Use function inside() from part a. to write an expression that tests whether\n",
    "the point (1,1) lies in both of the following rectangles: one with lower left\n",
    "corner (0.3, 0.5) and upper right corner (1.1, 0.7) and the other with lower\n",
    "left corner (0.5, 0.2) and upper right corner (1.1, 2)."
   ]
  },
  {
   "cell_type": "code",
   "execution_count": 56,
   "id": "2b45966b",
   "metadata": {},
   "outputs": [
    {
     "name": "stdout",
     "output_type": "stream",
     "text": [
      "True\n",
      "False\n",
      "False\n",
      "True\n"
     ]
    }
   ],
   "source": [
    "\n",
    "static void inside(double x,double y, double x1, double y1, double x2, double y2)\n",
    "{    \n",
    "    if (x1 <= x && x <= x2 && y1 <= y && y <= y2)\n",
    "    {\n",
    "        Console.WriteLine(\"True\");\n",
    "    }\n",
    "    else\n",
    "    {\n",
    "        Console.WriteLine(\"False\");\n",
    "    }\n",
    "}\n",
    "\n",
    "inside(1,1,0,0,2,3);\n",
    "inside(-1,-1,0,0,2,3);\n",
    "\n",
    "//Item b\n",
    "\n",
    "inside(1, 1, 0.3, 0.5, 1.1 ,0.7);\n",
    "inside(1, 1, 0.5, 0.2, 1.1 ,2);\n"
   ]
  },
  {
   "cell_type": "code",
   "execution_count": null,
   "id": "3b2b6ac5",
   "metadata": {},
   "outputs": [],
   "source": []
  }
 ],
 "metadata": {
  "kernelspec": {
   "display_name": ".NET (C#)",
   "language": "C#",
   "name": ".net-csharp"
  },
  "language_info": {
   "file_extension": ".cs",
   "mimetype": "text/x-csharp",
   "name": "C#",
   "pygments_lexer": "csharp",
   "version": "8.0"
  }
 },
 "nbformat": 4,
 "nbformat_minor": 5
}
